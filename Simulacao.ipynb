{
 "cells": [
  {
   "cell_type": "markdown",
   "metadata": {},
   "source": [
    "# Simulação de circuito elétrico através de variáveis de estado\n",
    "\n",
    "O seguinte circuito elétrico RLC será simulado:\n",
    "\n",
    "![Imagem do circuito](img/electric.png \"Circuito RLC\")\n",
    "\n",
    "Com $R=3 \\Omega$, $L=1\\text{H}$ e $C=1/2\\text{F}$, entrada da fonte de corrente $u(t)$ como um sinal degrau unitário e variáveis de estado $x_1 = v_c$ e $x_2 = i_L$\n",
    "\n",
    "## Diagrama de fluxo\n",
    "\n",
    "Primeiramente foi pedido para fazer um diagrama de fluxo do circuito acima. Antes do diagrama de fluxo, foi-se obtido o diagrama de blocos no domínio de Laplace para o circuito:\n",
    "\n",
    "![Diagrama de blocos](img/blockdiagram.png \"Diagrama de blocos\")\n",
    "\n",
    "A partir dele, podemos obter o diagrama de fluxo:\n",
    "\n",
    "![Diagrama de fluxo](img/fluxdiagram.png \"Diagrama de fluxo\")\n",
    "\n",
    "## Simulação\n",
    "\n",
    "### Importar bibliotecas"
   ]
  },
  {
   "cell_type": "code",
   "execution_count": 1,
   "metadata": {
    "collapsed": true
   },
   "outputs": [],
   "source": [
    "import argparse\n",
    "from scipy import signal\n",
    "import numpy as np\n",
    "import matplotlib.pyplot as plt"
   ]
  },
  {
   "cell_type": "markdown",
   "metadata": {},
   "source": [
    "### Paramêtros através da linha de comando"
   ]
  },
  {
   "cell_type": "code",
   "execution_count": 2,
   "metadata": {},
   "outputs": [],
   "source": [
    "# Parse arguments\n",
    "\n",
    "parser = argparse.ArgumentParser(\n",
    "    description=\"Run simulation of RLC circuit\"\n",
    ")\n",
    "\n",
    "parser.add_argument(\"-r\", \"--resistance\", type=float, default=3,\n",
    "                    help=\"Value of resistance in the circuit in ohms. \\\n",
    "                    Default: 3 ohm\")\n",
    "parser.add_argument(\"-c\", \"--capacitance\", type=float, default=0.5,\n",
    "                    help=\"Value of capacitance in the circuit in farads. \\\n",
    "                    Default: 1/2 F\")\n",
    "parser.add_argument(\"-i\", \"--inductance\", type=float, default=1,\n",
    "                    help=\"Value of inductance in the circuit in henry. \\\n",
    "                    Default: 1 H\")\n",
    "\n",
    "parser.add_argument(\"--vc0\", type=float, default=1,\n",
    "                    help=\"Initial vc value. \\\n",
    "                    Default: 0\")\n",
    "parser.add_argument(\"--il0\", type=float, default=1,\n",
    "                    help=\"Initial il value. \\\n",
    "                    Default: 0\")\n",
    "\n",
    "parser.add_argument(\"-u\", \"--input\", type=str, choices=[\"zero\", \"step\"], \n",
    "                    default='zero', \n",
    "                    help=\"Input function of the circuit (Current source) in A. \\\n",
    "                    Default: zero\")\n",
    "\n",
    "parser.add_argument(\"--step\", type=float, default=0.1,\n",
    "                    help=\"Time step for simulation in seconds. \\\n",
    "                    Default: 0.1s\")\n",
    "\n",
    "parser.add_argument(\"--simtime\", type=float, default=10,\n",
    "                    help=\"Time of simulation in seconds. \\\n",
    "                    Default: 10s\")\n",
    "\n",
    "args = parser.parse_args(''.split())"
   ]
  },
  {
   "cell_type": "markdown",
   "metadata": {},
   "source": [
    "Caso esteja rodando o script a partir do terminal, trocar a linha logo acima por `args = parser.parse_args()`"
   ]
  },
  {
   "cell_type": "code",
   "execution_count": 3,
   "metadata": {
    "collapsed": true
   },
   "outputs": [],
   "source": [
    "R = args.resistance\n",
    "L = args.inductance\n",
    "C = args.capacitance\n",
    "u = args.input\n",
    "vc0 = args.vc0\n",
    "il0 = args.il0\n",
    "dt = args.step\n",
    "T = args.simtime"
   ]
  },
  {
   "cell_type": "markdown",
   "metadata": {},
   "source": [
    "#### Mostrar informações ao usuário"
   ]
  },
  {
   "cell_type": "code",
   "execution_count": 4,
   "metadata": {},
   "outputs": [
    {
     "name": "stdout",
     "output_type": "stream",
     "text": [
      "VARIABLES FOR SIMULATION\n",
      "R = 3 ohm\n",
      "L = 1 H\n",
      "C = 0.5 F\n",
      "input =  zero\n",
      "vc0 = 1 V\n",
      "il0 = 1 A\n",
      "time step: 0.1 s\n",
      "timulation time: 10 s\n",
      "\n"
     ]
    }
   ],
   "source": [
    "print(\"VARIABLES FOR SIMULATION\")\n",
    "print(\"R =\", R, \"ohm\")\n",
    "print(\"L =\", L, \"H\")\n",
    "print(\"C =\", C, \"F\")\n",
    "print(\"input = \", u)\n",
    "print(\"vc0 =\", vc0, \"V\")\n",
    "print(\"il0 =\", il0, \"A\")\n",
    "print(\"time step:\", dt, \"s\")\n",
    "print(\"timulation time:\", T, \"s\")\n",
    "print(\"\")"
   ]
  },
  {
   "cell_type": "markdown",
   "metadata": {},
   "source": [
    "### Simular o sistema"
   ]
  },
  {
   "cell_type": "code",
   "execution_count": 5,
   "metadata": {},
   "outputs": [],
   "source": [
    "# condições iniciais\n",
    "x0 = np.array([vc0, il0])\n",
    "\n",
    "# matrizes para espaço de estados contínuo\n",
    "A = np.array([[0, -1/C], [1/L, -R/L]])\n",
    "B = np.array([[1/C], [0]])\n",
    "# Ajustar C e D para a saída ser as variáveis de estado\n",
    "C = np.array([[1, 0], [0, 1]])\n",
    "D = np.array([[0], [0]])\n",
    "\n",
    "# Gerar array de tempo\n",
    "t = np.arange(0, T+dt, dt)\n",
    "\n",
    "# Sistema Contínuo\n",
    "contsys = signal.lti(A, B, C, D)\n",
    "# Discretizar o sistema\n",
    "sys = contsys.to_discrete(dt)\n",
    "\n",
    "# Obter resposta ao degray\n",
    "if u == \"zero\":\n",
    "    \n",
    "    U = np.zeros(t.shape)\n",
    "    \n",
    "    t, y, x = sys.output(U, t, x0=x0)\n",
    "    x1 = x[:, 0]\n",
    "    x2 = x[:, 1]\n",
    "    \n",
    "elif u == \"step\":\n",
    "\n",
    "    t, y = sys.step(t=t, x0=x0)\n",
    "    t = np.array(t)\n",
    "    y = np.array(y)\n",
    "    x1 = y[0,:,0]\n",
    "    x2 = y[0,:,1]"
   ]
  },
  {
   "cell_type": "markdown",
   "metadata": {},
   "source": [
    "### Plotar resultados"
   ]
  },
  {
   "cell_type": "code",
   "execution_count": 6,
   "metadata": {},
   "outputs": [
    {
     "data": {
      "image/png": "[encoded data removed]",
      "text/plain": [
       "<matplotlib.figure.Figure at 0x1e8accd0cc0>"
      ]
     },
     "metadata": {},
     "output_type": "display_data"
    }
   ],
   "source": [
    "plt.close('all')\n",
    "\n",
    "plt.figure(figsize=(16,5))\n",
    "\n",
    "# Dois plots que compartilham o mesmo eixo x\n",
    "\n",
    "ax1 = plt.subplot2grid((2,2), (0, 0))\n",
    "ax1.plot(t, x1, label=\"$x_1 = v_c$\")\n",
    "ax1.legend(loc='center right')\n",
    "ax1.set_title('Variáveis de estado')\n",
    "ax1.set_ylabel('Tensão (Volts)')\n",
    "\n",
    "ax2 = plt.subplot2grid((2,2), (1, 0))\n",
    "ax2.plot(t, x2, label=\"$x_2 = i_L$\")\n",
    "ax2.set_ylabel('Corrente (Amperes)')\n",
    "ax2.set_xlabel('Tempo (segundos)')\n",
    "ax2.legend(loc='center right')\n",
    "\n",
    "ax3 = plt.subplot2grid((2,2), (0, 1), rowspan=2)\n",
    "ax3.plot(x1, x2)\n",
    "ax3.set_title('Plot XY das variáveis de estado')\n",
    "ax3.set_ylabel('Corrente (Amperes)')\n",
    "ax3.set_xlabel('Tensão (Volts)')\n",
    "\n",
    "plt.show()"
   ]
  }
 ],
 "metadata": {
  "kernelspec": {
   "display_name": "Python 3",
   "language": "python",
   "name": "python3"
  },
  "language_info": {
   "codemirror_mode": {
    "name": "ipython",
    "version": 3
   },
   "file_extension": ".py",
   "mimetype": "text/x-python",
   "name": "python",
   "nbconvert_exporter": "python",
   "pygments_lexer": "ipython3",
   "version": "3.5.3"
  }
 },
 "nbformat": 4,
 "nbformat_minor": 2
}
